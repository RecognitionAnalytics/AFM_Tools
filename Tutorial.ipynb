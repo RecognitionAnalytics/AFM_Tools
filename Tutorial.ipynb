{
 "cells": [
  {
   "cell_type": "code",
   "execution_count": 1,
   "id": "4165ec36",
   "metadata": {},
   "outputs": [
    {
     "name": "stderr",
     "output_type": "stream",
     "text": [
      "  Running command git clone --filter=blob:none --quiet https://github.com/RecognitionAnalytics/pyFlammarion.git 'C:\\Users\\bashc\\AppData\\Local\\Temp\\pip-req-build-hej80l_k'\n"
     ]
    },
    {
     "name": "stdout",
     "output_type": "stream",
     "text": [
      "Collecting git+https://github.com/RecognitionAnalytics/pyFlammarion.git\n",
      "  Cloning https://github.com/RecognitionAnalytics/pyFlammarion.git to c:\\users\\bashc\\appdata\\local\\temp\\pip-req-build-hej80l_k\n",
      "  Resolved https://github.com/RecognitionAnalytics/pyFlammarion.git to commit 8c51a067c70104478ed89888477cacf6721a40a9\n",
      "  Installing build dependencies: started\n",
      "  Installing build dependencies: finished with status 'done'\n",
      "  Getting requirements to build wheel: started\n",
      "  Getting requirements to build wheel: finished with status 'done'\n",
      "  Preparing metadata (pyproject.toml): started\n",
      "  Preparing metadata (pyproject.toml): finished with status 'done'\n",
      "Requirement already satisfied: h5py in d:\\pythonproj\\mlstuff\\lib\\site-packages (from pyFlammarion==2025.5.21.post18) (3.13.0)\n",
      "Requirement already satisfied: igor2>=0.5.0 in d:\\pythonproj\\mlstuff\\lib\\site-packages (from pyFlammarion==2025.5.21.post18) (0.5.12)\n",
      "Requirement already satisfied: jprops in d:\\pythonproj\\mlstuff\\lib\\site-packages (from pyFlammarion==2025.5.21.post18) (2.0.2)\n",
      "Requirement already satisfied: numpy>=1.14.0 in d:\\pythonproj\\mlstuff\\lib\\site-packages (from pyFlammarion==2025.5.21.post18) (1.26.4)\n",
      "Requirement already satisfied: matplotlib in d:\\pythonproj\\mlstuff\\lib\\site-packages (from pyFlammarion==2025.5.21.post18) (3.8.4)\n",
      "Requirement already satisfied: scipy in d:\\pythonproj\\mlstuff\\lib\\site-packages (from pyFlammarion==2025.5.21.post18) (1.13.0)\n",
      "Requirement already satisfied: scikit-image in d:\\pythonproj\\mlstuff\\lib\\site-packages (from pyFlammarion==2025.5.21.post18) (0.24.0)\n",
      "Requirement already satisfied: pandas in d:\\pythonproj\\mlstuff\\lib\\site-packages (from pyFlammarion==2025.5.21.post18) (2.2.2)\n",
      "Requirement already satisfied: scikit-learn in d:\\pythonproj\\mlstuff\\lib\\site-packages (from pyFlammarion==2025.5.21.post18) (1.4.2)\n",
      "Requirement already satisfied: contourpy>=1.0.1 in d:\\pythonproj\\mlstuff\\lib\\site-packages (from matplotlib->pyFlammarion==2025.5.21.post18) (1.2.1)\n",
      "Requirement already satisfied: cycler>=0.10 in d:\\pythonproj\\mlstuff\\lib\\site-packages (from matplotlib->pyFlammarion==2025.5.21.post18) (0.12.1)\n",
      "Requirement already satisfied: fonttools>=4.22.0 in d:\\pythonproj\\mlstuff\\lib\\site-packages (from matplotlib->pyFlammarion==2025.5.21.post18) (4.51.0)\n",
      "Requirement already satisfied: kiwisolver>=1.3.1 in d:\\pythonproj\\mlstuff\\lib\\site-packages (from matplotlib->pyFlammarion==2025.5.21.post18) (1.4.5)\n",
      "Requirement already satisfied: packaging>=20.0 in d:\\pythonproj\\mlstuff\\lib\\site-packages (from matplotlib->pyFlammarion==2025.5.21.post18) (24.0)\n",
      "Requirement already satisfied: pillow>=8 in d:\\pythonproj\\mlstuff\\lib\\site-packages (from matplotlib->pyFlammarion==2025.5.21.post18) (10.3.0)\n",
      "Requirement already satisfied: pyparsing>=2.3.1 in d:\\pythonproj\\mlstuff\\lib\\site-packages (from matplotlib->pyFlammarion==2025.5.21.post18) (3.1.2)\n",
      "Requirement already satisfied: python-dateutil>=2.7 in d:\\pythonproj\\mlstuff\\lib\\site-packages (from matplotlib->pyFlammarion==2025.5.21.post18) (2.9.0.post0)\n",
      "Requirement already satisfied: six>=1.5 in d:\\pythonproj\\mlstuff\\lib\\site-packages (from python-dateutil>=2.7->matplotlib->pyFlammarion==2025.5.21.post18) (1.16.0)\n",
      "Requirement already satisfied: pytz>=2020.1 in d:\\pythonproj\\mlstuff\\lib\\site-packages (from pandas->pyFlammarion==2025.5.21.post18) (2024.1)\n",
      "Requirement already satisfied: tzdata>=2022.7 in d:\\pythonproj\\mlstuff\\lib\\site-packages (from pandas->pyFlammarion==2025.5.21.post18) (2024.1)\n",
      "Requirement already satisfied: networkx>=2.8 in d:\\pythonproj\\mlstuff\\lib\\site-packages (from scikit-image->pyFlammarion==2025.5.21.post18) (2.8.8)\n",
      "Requirement already satisfied: imageio>=2.33 in d:\\pythonproj\\mlstuff\\lib\\site-packages (from scikit-image->pyFlammarion==2025.5.21.post18) (2.34.2)\n",
      "Requirement already satisfied: tifffile>=2022.8.12 in d:\\pythonproj\\mlstuff\\lib\\site-packages (from scikit-image->pyFlammarion==2025.5.21.post18) (2024.7.2)\n",
      "Requirement already satisfied: lazy-loader>=0.4 in d:\\pythonproj\\mlstuff\\lib\\site-packages (from scikit-image->pyFlammarion==2025.5.21.post18) (0.4)\n",
      "Requirement already satisfied: joblib>=1.2.0 in d:\\pythonproj\\mlstuff\\lib\\site-packages (from scikit-learn->pyFlammarion==2025.5.21.post18) (1.4.0)\n",
      "Requirement already satisfied: threadpoolctl>=2.0.0 in d:\\pythonproj\\mlstuff\\lib\\site-packages (from scikit-learn->pyFlammarion==2025.5.21.post18) (3.5.0)\n",
      "Building wheels for collected packages: pyFlammarion\n",
      "  Building wheel for pyFlammarion (pyproject.toml): started\n",
      "  Building wheel for pyFlammarion (pyproject.toml): finished with status 'done'\n",
      "  Created wheel for pyFlammarion: filename=pyflammarion-2025.5.21.post18-py3-none-any.whl size=5245723 sha256=b0a8511d7f957ec266a954961912d17c1de140b3d759acdf1f6d2004674b7da7\n",
      "  Stored in directory: C:\\Users\\bashc\\AppData\\Local\\Temp\\pip-ephem-wheel-cache-snbdro9i\\wheels\\72\\24\\97\\77bbf2b128db5c9fd0bd72bfa861f522377162d084fbb1c104\n",
      "Successfully built pyFlammarion\n",
      "Installing collected packages: pyFlammarion\n",
      "  Attempting uninstall: pyFlammarion\n",
      "    Found existing installation: pyFlammarion 2025.5.20.post18\n",
      "    Uninstalling pyFlammarion-2025.5.20.post18:\n",
      "      Successfully uninstalled pyFlammarion-2025.5.20.post18\n",
      "Successfully installed pyFlammarion-2025.5.21.post18\n"
     ]
    },
    {
     "ename": "ModuleNotFoundError",
     "evalue": "No module named 'FileLoaders'",
     "output_type": "error",
     "traceback": [
      "\u001b[1;31m---------------------------------------------------------------------------\u001b[0m",
      "\u001b[1;31mModuleNotFoundError\u001b[0m                       Traceback (most recent call last)",
      "Cell \u001b[1;32mIn[1], line 5\u001b[0m\n\u001b[0;32m      1\u001b[0m \u001b[38;5;66;03m#get the latest version of pyFlammarion\u001b[39;00m\n\u001b[0;32m      3\u001b[0m get_ipython()\u001b[38;5;241m.\u001b[39msystem(\u001b[38;5;124m'\u001b[39m\u001b[38;5;124mpip install git+https://github.com/RecognitionAnalytics/pyFlammarion.git\u001b[39m\u001b[38;5;124m'\u001b[39m)\n\u001b[1;32m----> 5\u001b[0m \u001b[38;5;28;01mimport\u001b[39;00m \u001b[38;5;21;01mpyFlammarion\u001b[39;00m\u001b[38;5;21;01m.\u001b[39;00m\u001b[38;5;21;01mImagingTools\u001b[39;00m \u001b[38;5;28;01mas\u001b[39;00m \u001b[38;5;21;01mafm\u001b[39;00m \n\u001b[0;32m      6\u001b[0m \u001b[38;5;28;01mimport\u001b[39;00m \u001b[38;5;21;01mmatplotlib\u001b[39;00m\u001b[38;5;21;01m.\u001b[39;00m\u001b[38;5;21;01mpyplot\u001b[39;00m \u001b[38;5;28;01mas\u001b[39;00m \u001b[38;5;21;01mplt\u001b[39;00m \n",
      "File \u001b[1;32md:\\PythonProj\\AFM_Tools\\pyFlammarion\\__init__.py:2\u001b[0m\n\u001b[1;32m----> 2\u001b[0m \u001b[38;5;28;01mfrom\u001b[39;00m \u001b[38;5;21;01m.\u001b[39;00m\u001b[38;5;21;01mFmFlattening\u001b[39;00m \u001b[38;5;28;01mimport\u001b[39;00m \u001b[38;5;241m*\u001b[39m\n\u001b[0;32m      3\u001b[0m \u001b[38;5;28;01mfrom\u001b[39;00m \u001b[38;5;21;01m.\u001b[39;00m\u001b[38;5;21;01mFmFiles\u001b[39;00m \u001b[38;5;28;01mimport\u001b[39;00m \u001b[38;5;241m*\u001b[39m\n\u001b[0;32m      5\u001b[0m \u001b[38;5;28;01mfrom\u001b[39;00m \u001b[38;5;21;01m.\u001b[39;00m\u001b[38;5;21;01mMathTools\u001b[39;00m \u001b[38;5;28;01mimport\u001b[39;00m \u001b[38;5;241m*\u001b[39m\n",
      "File \u001b[1;32md:\\PythonProj\\AFM_Tools\\pyFlammarion\\FmFlattening.py:9\u001b[0m\n\u001b[0;32m      7\u001b[0m \u001b[38;5;28;01mfrom\u001b[39;00m \u001b[38;5;21;01mscipy\u001b[39;00m \u001b[38;5;28;01mimport\u001b[39;00m ndimage\n\u001b[0;32m      8\u001b[0m \u001b[38;5;28;01mfrom\u001b[39;00m \u001b[38;5;21;01msklearn\u001b[39;00m\u001b[38;5;21;01m.\u001b[39;00m\u001b[38;5;21;01mlinear_model\u001b[39;00m \u001b[38;5;28;01mimport\u001b[39;00m RANSACRegressor\n\u001b[1;32m----> 9\u001b[0m \u001b[38;5;28;01mfrom\u001b[39;00m \u001b[38;5;21;01mFileLoaders\u001b[39;00m\u001b[38;5;21;01m.\u001b[39;00m\u001b[38;5;21;01mFlammarionFile\u001b[39;00m \u001b[38;5;28;01mimport\u001b[39;00m FlammarionFile, FlammarionImageData\n\u001b[0;32m     10\u001b[0m \u001b[38;5;28;01mfrom\u001b[39;00m \u001b[38;5;21;01mscipy\u001b[39;00m\u001b[38;5;21;01m.\u001b[39;00m\u001b[38;5;21;01msignal\u001b[39;00m \u001b[38;5;28;01mimport\u001b[39;00m find_peaks\n\u001b[0;32m     12\u001b[0m \u001b[38;5;28;01mclass\u001b[39;00m \u001b[38;5;21;01mAFMFlatteningMethod\u001b[39;00m(Enum):\n",
      "\u001b[1;31mModuleNotFoundError\u001b[0m: No module named 'FileLoaders'"
     ]
    }
   ],
   "source": [
    "#get the latest version of pyFlammarion\n",
    " \n",
    "!pip install git+https://github.com/RecognitionAnalytics/pyFlammarion.git\n",
    "\n",
    "import pyFlammarion.ImagingTools as afm \n",
    "import matplotlib.pyplot as plt "
   ]
  },
  {
   "cell_type": "code",
   "execution_count": null,
   "id": "fb25cb3c",
   "metadata": {},
   "outputs": [],
   "source": []
  }
 ],
 "metadata": {
  "celltoolbar": "Tags",
  "kernelspec": {
   "display_name": "mlStuff",
   "language": "python",
   "name": "python3"
  },
  "language_info": {
   "codemirror_mode": {
    "name": "ipython",
    "version": 3
   },
   "file_extension": ".py",
   "mimetype": "text/x-python",
   "name": "python",
   "nbconvert_exporter": "python",
   "pygments_lexer": "ipython3",
   "version": "3.12.6"
  }
 },
 "nbformat": 4,
 "nbformat_minor": 5
}
